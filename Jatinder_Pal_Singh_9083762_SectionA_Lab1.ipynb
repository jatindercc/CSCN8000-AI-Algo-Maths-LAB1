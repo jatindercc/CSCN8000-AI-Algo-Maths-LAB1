{
 "cells": [
  {
   "cell_type": "markdown",
   "id": "1ff4f3bf",
   "metadata": {},
   "source": [
    "#### Assignment 1: LAB 1"
   ]
  },
  {
   "cell_type": "code",
   "execution_count": 1,
   "id": "ee8599d5",
   "metadata": {},
   "outputs": [],
   "source": [
    "# Import necessary libraries\n",
    "import pandas as pd\n",
    "import numpy as np\n",
    "import matplotlib.pyplot as plt\n",
    "import os as os\n",
    "from scipy import stats\n",
    "from IPython.core.interactiveshell import InteractiveShell \n",
    "os.chdir(\"C:/Users/mamta/Downloads/\");\n",
    "\n",
    "# Set the interactive shell to display all outputs\n",
    "InteractiveShell.ast_node_interactivity = \"all\"\n",
    "# This setting ensures that all results of computations in a cell are displayed, not just the last one."
   ]
  },
  {
   "cell_type": "markdown",
   "id": "56134fe6",
   "metadata": {},
   "source": [
    "Part A\n",
    "- Question 1.\tCreate an array that starts from the integer 1, ends at 20, incremented by 3."
   ]
  },
  {
   "cell_type": "code",
   "execution_count": 2,
   "id": "e4062cf5",
   "metadata": {},
   "outputs": [
    {
     "name": "stdout",
     "output_type": "stream",
     "text": [
      "Array 1: [ 1  4  7 10 13 16 19]\n",
      "Array 2: [ 2  5  8 11 14 17 20]\n"
     ]
    }
   ],
   "source": [
    "# Create two arrays as per the question requirement\n",
    "# Array 1: 1, 4, 7, ..., 19\n",
    "# Array 2: 2, 5, 8, ..., 20\n",
    "\n",
    "array_jps_1 = np.arange(1,21,3)\n",
    "array_jps_2 = np.arange(2,22,3)\n",
    "\n",
    "print(\"Array 1:\", array_jps_1)\n",
    "print(\"Array 2:\", array_jps_2)"
   ]
  },
  {
   "cell_type": "markdown",
   "id": "3263734e",
   "metadata": {},
   "source": [
    "- Question 2: Create a new array of shape 3 with random numbers between 0 and 1."
   ]
  },
  {
   "cell_type": "code",
   "execution_count": 3,
   "id": "dc4c34f5",
   "metadata": {},
   "outputs": [
    {
     "data": {
      "text/plain": [
       "array([0.51639863, 0.57066759, 0.02847423])"
      ]
     },
     "execution_count": 3,
     "metadata": {},
     "output_type": "execute_result"
    }
   ],
   "source": [
    "# Create an array of shape 3 with random numbers between 0 and 1\n",
    "# Setting a seed for reproducibility\n",
    "np.random.seed(101)\n",
    "# Creating the array with random numbers between 0 and 1 of shape 3\n",
    "array_jps_2 = np.random.rand(3)\n",
    "# Display the array\n",
    "array_jps_2"
   ]
  },
  {
   "cell_type": "markdown",
   "id": "b9dbb8cc",
   "metadata": {},
   "source": [
    "- Question 3: Create a 2 D array [[10,20,45], [30,12,16], [42,17,56]] and perform the following operations:\n",
    "    - Slice the 2D array to get the first two rows, slice the 2D array to get the last two rows.\n"
   ]
  },
  {
   "cell_type": "code",
   "execution_count": 4,
   "id": "8650eff8",
   "metadata": {},
   "outputs": [
    {
     "data": {
      "text/plain": [
       "array([[10, 20, 45],\n",
       "       [30, 12, 16],\n",
       "       [42, 17, 56]])"
      ]
     },
     "execution_count": 4,
     "metadata": {},
     "output_type": "execute_result"
    },
    {
     "data": {
      "text/plain": [
       "array([[10, 20, 45],\n",
       "       [30, 12, 16]])"
      ]
     },
     "execution_count": 4,
     "metadata": {},
     "output_type": "execute_result"
    },
    {
     "data": {
      "text/plain": [
       "array([[30, 12, 16],\n",
       "       [42, 17, 56]])"
      ]
     },
     "execution_count": 4,
     "metadata": {},
     "output_type": "execute_result"
    },
    {
     "data": {
      "text/plain": [
       "array([[10],\n",
       "       [30],\n",
       "       [42]])"
      ]
     },
     "execution_count": 4,
     "metadata": {},
     "output_type": "execute_result"
    }
   ],
   "source": [
    "# Create the 2D array as per the question requirement and perform slicing operations\n",
    "# 2D array: [[10,20,45], [30,12,16], [42,17,56]]\n",
    "td_jps_array = np.array([[10,20,45], [30,12,16], [42,17,56]])\n",
    "# Display the 2D array\n",
    "td_jps_array\n",
    "# Slicing the 2D array to get the first two rows\n",
    "td_jps_array[:2,:] \n",
    "\n",
    "# Slicing the 2D array to get the last two rows\n",
    "td_jps_array[1:,:]\n",
    "\n",
    "# Slicing the 2D array to get the first column\n",
    "td_jps_array[:,:1]\n"
   ]
  },
  {
   "cell_type": "markdown",
   "id": "b9bac5c6",
   "metadata": {},
   "source": [
    "- 4.\tCreate two 2x2 arrays and demonstrate how you can stack the elements vertically, horizontally, and split the arrays into smaller     "
   ]
  },
  {
   "cell_type": "code",
   "execution_count": 5,
   "id": "24a0d7f0",
   "metadata": {},
   "outputs": [
    {
     "data": {
      "text/plain": [
       "array([[10, 20, 45]])"
      ]
     },
     "execution_count": 5,
     "metadata": {},
     "output_type": "execute_result"
    },
    {
     "data": {
      "text/plain": [
       "array([[30, 12, 16]])"
      ]
     },
     "execution_count": 5,
     "metadata": {},
     "output_type": "execute_result"
    },
    {
     "data": {
      "text/plain": [
       "array([[42, 17, 56]])"
      ]
     },
     "execution_count": 5,
     "metadata": {},
     "output_type": "execute_result"
    },
    {
     "data": {
      "text/plain": [
       "array([[10, 20, 45],\n",
       "       [30, 12, 16]])"
      ]
     },
     "execution_count": 5,
     "metadata": {},
     "output_type": "execute_result"
    },
    {
     "data": {
      "text/plain": [
       "array([[10, 20, 45, 30, 12, 16]])"
      ]
     },
     "execution_count": 5,
     "metadata": {},
     "output_type": "execute_result"
    }
   ],
   "source": [
    "# construct two 2D arrays and perform vertical and horizontal stacking operations\n",
    "# Create two 2D arrays as per the question requirement\n",
    "# Array A: [[10,20,45]]\n",
    "# Array B: [[30,12,16]]\n",
    "# Array C: [[42,17,56]]\n",
    "A_jps = np.array([[10,20,45]])\n",
    "B_jps = np.array([[30,12,16]])\n",
    "C_jps = np.array([[42,17,56]])\n",
    "# Display the arrays\n",
    "A_jps\n",
    "B_jps\n",
    "C_jps\n",
    "\n",
    "# Vertical stacking of A and B\n",
    "VAB_jps = np.vstack((A_jps,B_jps))\n",
    "VAB_jps\n",
    "\n",
    "# Horizontal stacking of A and B\n",
    "HAB_jps = np.hstack((A_jps,B_jps))\n",
    "HAB_jps\n",
    "\n",
    "#np.vsplit(A_jps,2)\n"
   ]
  },
  {
   "cell_type": "markdown",
   "id": "b4cb8ded",
   "metadata": {},
   "source": [
    "- Question 5: Create two matrices 𝑋 = ([[5, 7, 2], [4, 5, 6], [7, 4 ,2]]), 𝑌 = ([[4, 2], [6, 2], [4, 2]]),\n",
    "o\tIs it possible to multiply these matrices?\n",
    "o\tDemonstrate the case when it is not possible to.\n",
    "\n",
    "array([1,2],[3,4])\n",
    "\n",
    "array([5,6],[7,8])\n",
    "\n",
    "array([1,2],[3,4],[5,6],[7,8])\n",
    "\n",
    "array([[1,2,3,4],[5,6,7,8]])\n"
   ]
  },
  {
   "cell_type": "code",
   "execution_count": 6,
   "id": "4eb606ad",
   "metadata": {},
   "outputs": [
    {
     "data": {
      "text/plain": [
       "array([[1, 2, 3],\n",
       "       [4, 5, 6]])"
      ]
     },
     "execution_count": 6,
     "metadata": {},
     "output_type": "execute_result"
    },
    {
     "data": {
      "text/plain": [
       "array([[ 7,  8],\n",
       "       [ 9, 10],\n",
       "       [11, 12]])"
      ]
     },
     "execution_count": 6,
     "metadata": {},
     "output_type": "execute_result"
    },
    {
     "data": {
      "text/plain": [
       "array([[ 58,  64],\n",
       "       [139, 154]])"
      ]
     },
     "execution_count": 6,
     "metadata": {},
     "output_type": "execute_result"
    }
   ],
   "source": [
    "# Question 5: Create two matrices 𝑋 = ([[5, 7, 2], [4, 5, 6], [7, 4 ,2]]), 𝑌 = ([[4, 2], [6, 2], [4, 2]]),\n",
    "x_jps = np.array([[1,2,3],[4,5,6]])\n",
    "y_jps = np.array([[7,8],[9,10],[11,12]])\n",
    "x_jps\n",
    "y_jps\n",
    "\n",
    "\n",
    "# Is it possible to multiply these matrices?\n",
    "z_jps = np.dot(x_jps,y_jps)\n",
    "z_jps\n",
    "\n",
    "# Demonstrate the case when it is not possible to.\n",
    "x1_jps = np.array([[5,7,2],[4,5,6],[7,4,2]])\n",
    "y1_jps = np.array([[4,2],[6,2],[4,2]])\n",
    "\n",
    "#following will give you error and stops the \n",
    "# z1_jps = np.dot(y1_jps, x1_jps)\n",
    "# This will raise a ValueError because the number of columns in y1_jps (2) does not match the number of rows in x1_jps (3)\n",
    "# shapes (3,2) and (3,3) not aligned: 2 (dim 1) != 3 (dim 0)"
   ]
  },
  {
   "cell_type": "markdown",
   "id": "d7c107df",
   "metadata": {},
   "source": [
    "- Question 6.\tCreate two arrays\n",
    "\n",
    "o\tFind the Shape, Number of dimensions of vector x.\n",
    "\n",
    "o\tReshape the vector x to a matrix of size (3,1) and determine the number of dimensions after reshaping y to a matrix of (3,1)."
   ]
  },
  {
   "cell_type": "code",
   "execution_count": 7,
   "id": "858f2717",
   "metadata": {},
   "outputs": [
    {
     "data": {
      "text/plain": [
       "array([[1, 2, 3],\n",
       "       [4, 5, 6]])"
      ]
     },
     "execution_count": 7,
     "metadata": {},
     "output_type": "execute_result"
    },
    {
     "data": {
      "text/plain": [
       "array([[ 5,  6,  7,  8],\n",
       "       [ 9, 10, 11, 12],\n",
       "       [13, 14, 15, 16],\n",
       "       [17, 18, 19, 20]])"
      ]
     },
     "execution_count": 7,
     "metadata": {},
     "output_type": "execute_result"
    },
    {
     "data": {
      "text/plain": [
       "(2, 3)"
      ]
     },
     "execution_count": 7,
     "metadata": {},
     "output_type": "execute_result"
    },
    {
     "data": {
      "text/plain": [
       "(4, 4)"
      ]
     },
     "execution_count": 7,
     "metadata": {},
     "output_type": "execute_result"
    },
    {
     "data": {
      "text/plain": [
       "array([[1, 2],\n",
       "       [3, 4],\n",
       "       [5, 6]])"
      ]
     },
     "execution_count": 7,
     "metadata": {},
     "output_type": "execute_result"
    },
    {
     "data": {
      "text/plain": [
       "array([[ 5,  6,  7,  8],\n",
       "       [ 9, 10, 11, 12],\n",
       "       [13, 14, 15, 16],\n",
       "       [17, 18, 19, 20]])"
      ]
     },
     "execution_count": 7,
     "metadata": {},
     "output_type": "execute_result"
    }
   ],
   "source": [
    "# Question 6.\tCreate two arrays\n",
    "# x = ([1,2,3],[4,5,6])\n",
    "# y = ([5,6,7,8],[9,10,11,12],[13,14,15,16],[17,18,19,20])\n",
    "# Find the Shape, Number of dimensions of vector x.\n",
    "# Reshape the vector x to a matrix of size (3,1) and determine the number of dimensions after reshaping y to a matrix of (3,1).\n",
    "\n",
    "x_JPS = np.array([[1,2,3],[4,5,6]])\n",
    "y_JPS = np.array([[5,6,7,8],[9,10,11,12],[13,14,15,16],[17,18,19,20]])\n",
    "x_JPS\n",
    "y_JPS\n",
    "\n",
    "# Find the Shape, Number of dimensions of vector x.\n",
    "x_JPS_shape = np.shape(x_JPS)\n",
    "y_JPS_shape = np.shape(y_JPS)\n",
    "\n",
    "x_JPS_shape\n",
    "y_JPS_shape\n",
    "\n",
    "# Reshape the vector x to a matrix of size (3,1) and determine the number of dimensions after reshaping y to a matrix of (3,1).\n",
    "x_JPS_shape1 = np.reshape(x_JPS,(3,2))\n",
    "y_JPS_shape1 = np.reshape(y_JPS,(4,4))\n",
    "\n",
    "x_JPS_shape1\n",
    "y_JPS_shape1\n",
    "# Following will gives you error as explaind\n",
    "# z_JPS = np.dot(x_JPS,y_JPS)  \n",
    "# this will give error as the number of columns in x_JPS is not equal to number of rows in y_JPS\n",
    "# shapes (2,3) and (4,4) not aligned: 3 (dim 1) != 4 (dim 0)"
   ]
  },
  {
   "cell_type": "markdown",
   "id": "31233d28",
   "metadata": {},
   "source": [
    "z_JPS = np.dot(x_JPS,y_JPS)  \n",
    "Error will be displayed as\n",
    "    ValueError: shapes (2,3) and (4,4) not aligned: 3 (dim 1) != 4 (dim 0)"
   ]
  },
  {
   "cell_type": "markdown",
   "id": "0ce2122d",
   "metadata": {},
   "source": [
    "- Question 7.\tHow does broadcasting work? Demonstrate the subtraction, multiplication by considering a 3 x 3 matrix.\n"
   ]
  },
  {
   "cell_type": "code",
   "execution_count": 8,
   "id": "8d189773",
   "metadata": {},
   "outputs": [
    {
     "name": "stdout",
     "output_type": "stream",
     "text": [
      "Element-wise Subtraction:\n",
      " [[ 4  4  4]\n",
      " [ 8 10 12]\n",
      " [14 16 18]]\n",
      "Element-wise Multiplication using Broadcasting:\n",
      " [[ -3  -4  -3]\n",
      " [-12 -10  -6]\n",
      " [-21 -16  -9]]\n"
     ]
    }
   ],
   "source": [
    "# Broadcasting explanation\n",
    "# Create two arrays\n",
    "\n",
    "D_JPS = np.array([[1,2,3],[4,5,6],[7,8,9]])\n",
    "E_JPS = np.array([[-3,-2,-1], [-4,-5,-6], [-7,-8,-9]])\n",
    "# Broadcasting operation \n",
    "# Element-wise subtraction\n",
    "# array1 (3*3) and array2 (3*3)\n",
    "# 3x3    3x3\n",
    "# [[1,2,3],     [-3,-2,-1]  →  [1-(-3), 2-(-2), 3-(-1)]\n",
    "#  [4,5,6],  -                 →  [4-(-4), 5-(-5), 6-(-6)]\n",
    "#  [7,8,9]]                    →  [7-(-7), 8-(-8), 9-(-9)]\n",
    "substraction = D_JPS - E_JPS\n",
    "\n",
    "print( \"Element-wise Subtraction:\\n\", substraction)\n",
    "\n",
    "# Multiplication to demonstrate broadcasting\n",
    "# Create two arrays\n",
    "\n",
    "D_JPS = np.array([[1,2,3],[4,5,6],[7,8,9]])\n",
    "E_JPS = np.array([-3,-2,-1])\n",
    "\n",
    "# Broadcasting operation\n",
    "# Element-wise multiplication using broadcasting \n",
    "# array1 (3*3) and array2 (1*3) \n",
    "# array2 is broadcasted to match the shape of array1\n",
    "# 3x3    1x3\n",
    "# [[1,2,3],     [-3,-2,-1]  →  [1*-3, 2*-2, 3*-1]\n",
    "#  [4,5,6],  ×                 →  [4*-3, 5*-2, 6*-1]\n",
    "#  [7,8,9]]                    →  [7*-3, 8*-2, 9*-1]\n",
    "\n",
    "result = D_JPS * E_JPS\n",
    "\n",
    "print(\"Element-wise Multiplication using Broadcasting:\\n\", result)"
   ]
  },
  {
   "cell_type": "markdown",
   "id": "f2696a21",
   "metadata": {},
   "source": [
    "### PART B Linear Equation\n",
    "Determine the singularity of the system of equations, comment on the expected solution of the system. Solve the system of equations if possible. Justify the reason why you believe the system can or cannot be solved using NumPy functions.\n",
    "\n",
    "- Question 1. \n",
    "    1.\t4x + y - 2z = 10\n",
    "    2.\t2x - 3y + 2z = -4\n",
    "    3.\tx + 2y + 3z = 6\n",
    "\n"
   ]
  },
  {
   "cell_type": "code",
   "execution_count": 9,
   "id": "a854863b",
   "metadata": {},
   "outputs": [
    {
     "name": "stdout",
     "output_type": "stream",
     "text": [
      "Determinant of A: -70.00000000000003\n",
      "Solution [x, y, z]: [ 1.8  2.4 -0.2]\n"
     ]
    }
   ],
   "source": [
    "### PART B Linear Equation \n",
    "# Define the coefficient matrix A\n",
    "# 4x + y - 2z = 10\n",
    "# 2x - 3y + 2z = -4\n",
    "# x + 2y + 3z = 6  \n",
    "A_jps = np.array([\n",
    "    [4, 1, -2],\n",
    "    [2, -3, 2],\n",
    "    [1, 2, 3]\n",
    "])\n",
    "\n",
    "# Define the right-hand side vector B\n",
    "B_jps = np.array([10, -4, 6])\n",
    "\n",
    "# Check the determinant to ensure the system has a unique solution\n",
    "det_A = np.linalg.det(A_jps)\n",
    "print(\"Determinant of A:\", det_A)\n",
    "# A non-zero determinant indicates that the system has a unique solution.\n",
    "if det_A != 0:\n",
    "    # Solve the system Ax = B\n",
    "    solution = np.linalg.solve(A_jps, B_jps)\n",
    "    # \n",
    "    print(\"Solution [x, y, z]:\", solution)\n",
    "    # A unique solution exists.\n",
    "else:\n",
    "    print(\"The system does not have a unique solution.\")\n",
    "    # Find the null space of A\n",
    "    null_space = np.linalg.null_space(A_jps)\n",
    "    print(\"Null space of A:\", null_space)\n",
    "    # A non-zero null space indicates that the system has infinitely many solutions.\n",
    "    # If the null space is not empty, the system has infinitely many solutions.\n",
    "    if null_space.size != 0:\n",
    "        print(\"The system has infinitely many solutions.\")\n",
    "        # Find a particular solution\n",
    "        particular_solution = np.linalg.lstsq(A_jps, B_jps, rcond=None)[0]\n",
    "        print(\"Particular solution [x, y, z]:\", particular_solution)\n"
   ]
  },
  {
   "cell_type": "markdown",
   "id": "3f5d6d6d",
   "metadata": {},
   "source": [
    "- Question 2\n",
    "    1.\t2x - y + 3z + 4w = 10\n",
    "    2.\t4x - 2y + 6z + 8w = 20\n",
    "    3.\t3x + y - 2z + 2w = 3\n",
    "    4.\tx + 3y - 4z + w = -1"
   ]
  },
  {
   "cell_type": "code",
   "execution_count": 10,
   "id": "7790cd48",
   "metadata": {},
   "outputs": [
    {
     "name": "stdout",
     "output_type": "stream",
     "text": [
      "Matrix A2: [[ 2 -1  3  4]\n",
      " [ 4 -2  6  8]\n",
      " [ 3 -1 -2  2]\n",
      " [ 1  3 -4  1]]\n",
      "Vector B2: [10 20  3 -1]\n",
      "Determinant of A2: 0.0\n",
      "Infinitely many solutions exist.\n"
     ]
    }
   ],
   "source": [
    "# Convert the equation into matrix for solutions\n",
    "# display the matrix in a readable format \n",
    "# x y z w conversion in matrix form\n",
    "A2_JPS = np.array([\n",
    "    [2, -1, 3, 4],\n",
    "    [4, -2, 6, 8],\n",
    "    [3, -1, -2, 2],\n",
    "    [1, 3, -4, 1]\n",
    "])\n",
    "\n",
    "# Display the matrix\n",
    "print(\"Matrix A2:\" , A2_JPS)\n",
    "\n",
    "# Define the right-hand side vector\n",
    "b2_JPS = np.array([10, 20, 3, -1])\n",
    "print(\"Vector B2:\", b2_JPS)\n",
    "\n",
    "# Calculate and display the determinant\n",
    "det_A2_JPS = np.linalg.det(A2_JPS)\n",
    "# Check if the determinant is non-zero\n",
    "#   If the determinant is non-zero, the system has a unique solution.\n",
    "#   If the determinant is zero, the system may have no solutions or infinitely many solutions.\n",
    "#   In such cases, further analysis is needed to determine the nature of the solutions.\n",
    "#   For example, we can check the rank of the augmented matrix.\n",
    "#   If the rank of the augmented matrix is equal to the rank of the coefficient matrix, the system has at least one solution.\n",
    "#   If the rank of the augmented matrix is greater than the rank of the coefficient matrix, the system has no solutions.\n",
    "#   If the rank of the augmented matrix is less than the rank of the coefficient matrix, the system has infinitely many solutions.\n",
    "\n",
    "print(\"Determinant of A2:\", det_A2_JPS)\n",
    "# Check if the determinant is zero\n",
    "#   If the determinant is zero, the system may have no solutions or infinitely many solutions.\n",
    "#   In such cases, we can express the solution in terms of free variables.\n",
    "#   For example, we can use parameterized solutions.\n",
    "#   Let x4 = t (a free variable), then we can express x1, x2, and x3 in terms of t.\n",
    "#   We can substitute x4 = t into the original equations to find the relationships.\n",
    "#   For example, we can express x1, x2, and x3 in terms of t.\n",
    "#   x1 = 2t - 1, x2 = 3 - t, x3 = 4 - 2t\n",
    "#   We can express the solution as:\n",
    "#   [x1, x2, x3, x4] = [2t - 1, 3 - t, 4 - 2t, t]\n",
    "#   where t is a free parameter.\n",
    "if det_A2_JPS != 0:\n",
    "    # Solve the system if the determinant is non-zero\n",
    "    solution = np.linalg.solve(A2_JPS, b2_JPS)\n",
    "    print(\"Solution [x1, x2, x3, x4]:\", solution)\n",
    "else:\n",
    "    # Check the rank of the augmented matrix\n",
    "    augmented_matrix = np.column_stack((A2_JPS, b2_JPS))\n",
    "    rank_A2 = np.linalg.matrix_rank(A2_JPS)\n",
    "    rank_augmented = np.linalg.matrix_rank(augmented_matrix)\n",
    "\n",
    "    if rank_A2 == rank_augmented:\n",
    "        print(\"Infinitely many solutions exist.\")\n",
    "    else:\n",
    "        print(\"No unique solution exists (determinant is zero).\")"
   ]
  },
  {
   "cell_type": "markdown",
   "id": "aac259b9",
   "metadata": {},
   "source": [
    "Read CSV files"
   ]
  },
  {
   "cell_type": "code",
   "execution_count": 11,
   "id": "59765ce9",
   "metadata": {},
   "outputs": [
    {
     "data": {
      "application/vnd.microsoft.datawrangler.viewer.v0+json": {
       "columns": [
        {
         "name": "index",
         "rawType": "int64",
         "type": "integer"
        },
        {
         "name": "id",
         "rawType": "int64",
         "type": "integer"
        },
        {
         "name": "name",
         "rawType": "object",
         "type": "string"
        },
        {
         "name": "host_id",
         "rawType": "int64",
         "type": "integer"
        },
        {
         "name": "host_name",
         "rawType": "object",
         "type": "string"
        },
        {
         "name": "neighbourhood_group",
         "rawType": "object",
         "type": "string"
        },
        {
         "name": "neighbourhood",
         "rawType": "object",
         "type": "string"
        },
        {
         "name": "latitude",
         "rawType": "float64",
         "type": "float"
        },
        {
         "name": "longitude",
         "rawType": "float64",
         "type": "float"
        },
        {
         "name": "room_type",
         "rawType": "object",
         "type": "string"
        },
        {
         "name": "price",
         "rawType": "int64",
         "type": "integer"
        },
        {
         "name": "minimum_nights",
         "rawType": "int64",
         "type": "integer"
        },
        {
         "name": "number_of_reviews",
         "rawType": "int64",
         "type": "integer"
        },
        {
         "name": "last_review",
         "rawType": "object",
         "type": "unknown"
        },
        {
         "name": "reviews_per_month",
         "rawType": "float64",
         "type": "float"
        },
        {
         "name": "calculated_host_listings_count",
         "rawType": "int64",
         "type": "integer"
        },
        {
         "name": "availability_365",
         "rawType": "int64",
         "type": "integer"
        }
       ],
       "ref": "ad15d992-afb4-462e-80ef-15f43bc4621d",
       "rows": [
        [
         "0",
         "2539",
         "Clean & quiet apt home by the park",
         "2787",
         "John",
         "Brooklyn",
         "Kensington",
         "40.64749",
         "-73.97237",
         "Private room",
         "149",
         "1",
         "9",
         "2018-10-19",
         "0.21",
         "6",
         "365"
        ],
        [
         "1",
         "2595",
         "Skylit Midtown Castle",
         "2845",
         "Jennifer",
         "Manhattan",
         "Midtown",
         "40.75362",
         "-73.98377",
         "Entire home/apt",
         "225",
         "1",
         "45",
         "2019-05-21",
         "0.38",
         "2",
         "355"
        ],
        [
         "2",
         "3647",
         "THE VILLAGE OF HARLEM....NEW YORK !",
         "4632",
         "Elisabeth",
         "Manhattan",
         "Harlem",
         "40.80902",
         "-73.9419",
         "Private room",
         "150",
         "3",
         "0",
         null,
         null,
         "1",
         "365"
        ],
        [
         "3",
         "3831",
         "Cozy Entire Floor of Brownstone",
         "4869",
         "LisaRoxanne",
         "Brooklyn",
         "Clinton Hill",
         "40.68514",
         "-73.95976",
         "Entire home/apt",
         "89",
         "1",
         "270",
         "2019-07-05",
         "4.64",
         "1",
         "194"
        ],
        [
         "4",
         "5022",
         "Entire Apt: Spacious Studio/Loft by central park",
         "7192",
         "Laura",
         "Manhattan",
         "East Harlem",
         "40.79851",
         "-73.94399",
         "Entire home/apt",
         "80",
         "10",
         "9",
         "2018-11-19",
         "0.1",
         "1",
         "0"
        ],
        [
         "5",
         "5099",
         "Large Cozy 1 BR Apartment In Midtown East",
         "7322",
         "Chris",
         "Manhattan",
         "Murray Hill",
         "40.74767",
         "-73.975",
         "Entire home/apt",
         "200",
         "3",
         "74",
         "2019-06-22",
         "0.59",
         "1",
         "129"
        ],
        [
         "6",
         "5121",
         "BlissArtsSpace!",
         "7356",
         "Garon",
         "Brooklyn",
         "Bedford-Stuyvesant",
         "40.68688",
         "-73.95596",
         "Private room",
         "60",
         "45",
         "49",
         "2017-10-05",
         "0.4",
         "1",
         "0"
        ],
        [
         "7",
         "5178",
         "Large Furnished Room Near B'way ",
         "8967",
         "Shunichi",
         "Manhattan",
         "Hell's Kitchen",
         "40.76489",
         "-73.98493",
         "Private room",
         "79",
         "2",
         "430",
         "2019-06-24",
         "3.47",
         "1",
         "220"
        ],
        [
         "8",
         "5203",
         "Cozy Clean Guest Room - Family Apt",
         "7490",
         "MaryEllen",
         "Manhattan",
         "Upper West Side",
         "40.80178",
         "-73.96723",
         "Private room",
         "79",
         "2",
         "118",
         "2017-07-21",
         "0.99",
         "1",
         "0"
        ],
        [
         "9",
         "5238",
         "Cute & Cozy Lower East Side 1 bdrm",
         "7549",
         "Ben",
         "Manhattan",
         "Chinatown",
         "40.71344",
         "-73.99037",
         "Entire home/apt",
         "150",
         "1",
         "160",
         "2019-06-09",
         "1.33",
         "4",
         "188"
        ],
        [
         "10",
         "5295",
         "Beautiful 1br on Upper West Side",
         "7702",
         "Lena",
         "Manhattan",
         "Upper West Side",
         "40.80316",
         "-73.96545",
         "Entire home/apt",
         "135",
         "5",
         "53",
         "2019-06-22",
         "0.43",
         "1",
         "6"
        ],
        [
         "11",
         "5441",
         "Central Manhattan/near Broadway",
         "7989",
         "Kate",
         "Manhattan",
         "Hell's Kitchen",
         "40.76076",
         "-73.98867",
         "Private room",
         "85",
         "2",
         "188",
         "2019-06-23",
         "1.5",
         "1",
         "39"
        ],
        [
         "12",
         "5803",
         "Lovely Room 1, Garden, Best Area, Legal rental",
         "9744",
         "Laurie",
         "Brooklyn",
         "South Slope",
         "40.66829",
         "-73.98779",
         "Private room",
         "89",
         "4",
         "167",
         "2019-06-24",
         "1.34",
         "3",
         "314"
        ],
        [
         "13",
         "6021",
         "Wonderful Guest Bedroom in Manhattan for SINGLES",
         "11528",
         "Claudio",
         "Manhattan",
         "Upper West Side",
         "40.79826",
         "-73.96113",
         "Private room",
         "85",
         "2",
         "113",
         "2019-07-05",
         "0.91",
         "1",
         "333"
        ],
        [
         "14",
         "6090",
         "West Village Nest - Superhost",
         "11975",
         "Alina",
         "Manhattan",
         "West Village",
         "40.7353",
         "-74.00525",
         "Entire home/apt",
         "120",
         "90",
         "27",
         "2018-10-31",
         "0.22",
         "1",
         "0"
        ],
        [
         "15",
         "6848",
         "Only 2 stops to Manhattan studio",
         "15991",
         "Allen & Irina",
         "Brooklyn",
         "Williamsburg",
         "40.70837",
         "-73.95352",
         "Entire home/apt",
         "140",
         "2",
         "148",
         "2019-06-29",
         "1.2",
         "1",
         "46"
        ],
        [
         "16",
         "7097",
         "Perfect for Your Parents + Garden",
         "17571",
         "Jane",
         "Brooklyn",
         "Fort Greene",
         "40.69169",
         "-73.97185",
         "Entire home/apt",
         "215",
         "2",
         "198",
         "2019-06-28",
         "1.72",
         "1",
         "321"
        ],
        [
         "17",
         "7322",
         "Chelsea Perfect",
         "18946",
         "Doti",
         "Manhattan",
         "Chelsea",
         "40.74192",
         "-73.99501",
         "Private room",
         "140",
         "1",
         "260",
         "2019-07-01",
         "2.12",
         "1",
         "12"
        ],
        [
         "18",
         "7726",
         "Hip Historic Brownstone Apartment with Backyard",
         "20950",
         "Adam And Charity",
         "Brooklyn",
         "Crown Heights",
         "40.67592",
         "-73.94694",
         "Entire home/apt",
         "99",
         "3",
         "53",
         "2019-06-22",
         "4.44",
         "1",
         "21"
        ],
        [
         "19",
         "7750",
         "Huge 2 BR Upper East  Cental Park",
         "17985",
         "Sing",
         "Manhattan",
         "East Harlem",
         "40.79685",
         "-73.94872",
         "Entire home/apt",
         "190",
         "7",
         "0",
         null,
         null,
         "2",
         "249"
        ]
       ],
       "shape": {
        "columns": 16,
        "rows": 20
       }
      },
      "text/html": [
       "<div>\n",
       "<style scoped>\n",
       "    .dataframe tbody tr th:only-of-type {\n",
       "        vertical-align: middle;\n",
       "    }\n",
       "\n",
       "    .dataframe tbody tr th {\n",
       "        vertical-align: top;\n",
       "    }\n",
       "\n",
       "    .dataframe thead th {\n",
       "        text-align: right;\n",
       "    }\n",
       "</style>\n",
       "<table border=\"1\" class=\"dataframe\">\n",
       "  <thead>\n",
       "    <tr style=\"text-align: right;\">\n",
       "      <th></th>\n",
       "      <th>id</th>\n",
       "      <th>name</th>\n",
       "      <th>host_id</th>\n",
       "      <th>host_name</th>\n",
       "      <th>neighbourhood_group</th>\n",
       "      <th>neighbourhood</th>\n",
       "      <th>latitude</th>\n",
       "      <th>longitude</th>\n",
       "      <th>room_type</th>\n",
       "      <th>price</th>\n",
       "      <th>minimum_nights</th>\n",
       "      <th>number_of_reviews</th>\n",
       "      <th>last_review</th>\n",
       "      <th>reviews_per_month</th>\n",
       "      <th>calculated_host_listings_count</th>\n",
       "      <th>availability_365</th>\n",
       "    </tr>\n",
       "  </thead>\n",
       "  <tbody>\n",
       "    <tr>\n",
       "      <th>0</th>\n",
       "      <td>2539</td>\n",
       "      <td>Clean &amp; quiet apt home by the park</td>\n",
       "      <td>2787</td>\n",
       "      <td>John</td>\n",
       "      <td>Brooklyn</td>\n",
       "      <td>Kensington</td>\n",
       "      <td>40.64749</td>\n",
       "      <td>-73.97237</td>\n",
       "      <td>Private room</td>\n",
       "      <td>149</td>\n",
       "      <td>1</td>\n",
       "      <td>9</td>\n",
       "      <td>2018-10-19</td>\n",
       "      <td>0.21</td>\n",
       "      <td>6</td>\n",
       "      <td>365</td>\n",
       "    </tr>\n",
       "    <tr>\n",
       "      <th>1</th>\n",
       "      <td>2595</td>\n",
       "      <td>Skylit Midtown Castle</td>\n",
       "      <td>2845</td>\n",
       "      <td>Jennifer</td>\n",
       "      <td>Manhattan</td>\n",
       "      <td>Midtown</td>\n",
       "      <td>40.75362</td>\n",
       "      <td>-73.98377</td>\n",
       "      <td>Entire home/apt</td>\n",
       "      <td>225</td>\n",
       "      <td>1</td>\n",
       "      <td>45</td>\n",
       "      <td>2019-05-21</td>\n",
       "      <td>0.38</td>\n",
       "      <td>2</td>\n",
       "      <td>355</td>\n",
       "    </tr>\n",
       "    <tr>\n",
       "      <th>2</th>\n",
       "      <td>3647</td>\n",
       "      <td>THE VILLAGE OF HARLEM....NEW YORK !</td>\n",
       "      <td>4632</td>\n",
       "      <td>Elisabeth</td>\n",
       "      <td>Manhattan</td>\n",
       "      <td>Harlem</td>\n",
       "      <td>40.80902</td>\n",
       "      <td>-73.94190</td>\n",
       "      <td>Private room</td>\n",
       "      <td>150</td>\n",
       "      <td>3</td>\n",
       "      <td>0</td>\n",
       "      <td>NaN</td>\n",
       "      <td>NaN</td>\n",
       "      <td>1</td>\n",
       "      <td>365</td>\n",
       "    </tr>\n",
       "    <tr>\n",
       "      <th>3</th>\n",
       "      <td>3831</td>\n",
       "      <td>Cozy Entire Floor of Brownstone</td>\n",
       "      <td>4869</td>\n",
       "      <td>LisaRoxanne</td>\n",
       "      <td>Brooklyn</td>\n",
       "      <td>Clinton Hill</td>\n",
       "      <td>40.68514</td>\n",
       "      <td>-73.95976</td>\n",
       "      <td>Entire home/apt</td>\n",
       "      <td>89</td>\n",
       "      <td>1</td>\n",
       "      <td>270</td>\n",
       "      <td>2019-07-05</td>\n",
       "      <td>4.64</td>\n",
       "      <td>1</td>\n",
       "      <td>194</td>\n",
       "    </tr>\n",
       "    <tr>\n",
       "      <th>4</th>\n",
       "      <td>5022</td>\n",
       "      <td>Entire Apt: Spacious Studio/Loft by central park</td>\n",
       "      <td>7192</td>\n",
       "      <td>Laura</td>\n",
       "      <td>Manhattan</td>\n",
       "      <td>East Harlem</td>\n",
       "      <td>40.79851</td>\n",
       "      <td>-73.94399</td>\n",
       "      <td>Entire home/apt</td>\n",
       "      <td>80</td>\n",
       "      <td>10</td>\n",
       "      <td>9</td>\n",
       "      <td>2018-11-19</td>\n",
       "      <td>0.10</td>\n",
       "      <td>1</td>\n",
       "      <td>0</td>\n",
       "    </tr>\n",
       "    <tr>\n",
       "      <th>5</th>\n",
       "      <td>5099</td>\n",
       "      <td>Large Cozy 1 BR Apartment In Midtown East</td>\n",
       "      <td>7322</td>\n",
       "      <td>Chris</td>\n",
       "      <td>Manhattan</td>\n",
       "      <td>Murray Hill</td>\n",
       "      <td>40.74767</td>\n",
       "      <td>-73.97500</td>\n",
       "      <td>Entire home/apt</td>\n",
       "      <td>200</td>\n",
       "      <td>3</td>\n",
       "      <td>74</td>\n",
       "      <td>2019-06-22</td>\n",
       "      <td>0.59</td>\n",
       "      <td>1</td>\n",
       "      <td>129</td>\n",
       "    </tr>\n",
       "    <tr>\n",
       "      <th>6</th>\n",
       "      <td>5121</td>\n",
       "      <td>BlissArtsSpace!</td>\n",
       "      <td>7356</td>\n",
       "      <td>Garon</td>\n",
       "      <td>Brooklyn</td>\n",
       "      <td>Bedford-Stuyvesant</td>\n",
       "      <td>40.68688</td>\n",
       "      <td>-73.95596</td>\n",
       "      <td>Private room</td>\n",
       "      <td>60</td>\n",
       "      <td>45</td>\n",
       "      <td>49</td>\n",
       "      <td>2017-10-05</td>\n",
       "      <td>0.40</td>\n",
       "      <td>1</td>\n",
       "      <td>0</td>\n",
       "    </tr>\n",
       "    <tr>\n",
       "      <th>7</th>\n",
       "      <td>5178</td>\n",
       "      <td>Large Furnished Room Near B'way</td>\n",
       "      <td>8967</td>\n",
       "      <td>Shunichi</td>\n",
       "      <td>Manhattan</td>\n",
       "      <td>Hell's Kitchen</td>\n",
       "      <td>40.76489</td>\n",
       "      <td>-73.98493</td>\n",
       "      <td>Private room</td>\n",
       "      <td>79</td>\n",
       "      <td>2</td>\n",
       "      <td>430</td>\n",
       "      <td>2019-06-24</td>\n",
       "      <td>3.47</td>\n",
       "      <td>1</td>\n",
       "      <td>220</td>\n",
       "    </tr>\n",
       "    <tr>\n",
       "      <th>8</th>\n",
       "      <td>5203</td>\n",
       "      <td>Cozy Clean Guest Room - Family Apt</td>\n",
       "      <td>7490</td>\n",
       "      <td>MaryEllen</td>\n",
       "      <td>Manhattan</td>\n",
       "      <td>Upper West Side</td>\n",
       "      <td>40.80178</td>\n",
       "      <td>-73.96723</td>\n",
       "      <td>Private room</td>\n",
       "      <td>79</td>\n",
       "      <td>2</td>\n",
       "      <td>118</td>\n",
       "      <td>2017-07-21</td>\n",
       "      <td>0.99</td>\n",
       "      <td>1</td>\n",
       "      <td>0</td>\n",
       "    </tr>\n",
       "    <tr>\n",
       "      <th>9</th>\n",
       "      <td>5238</td>\n",
       "      <td>Cute &amp; Cozy Lower East Side 1 bdrm</td>\n",
       "      <td>7549</td>\n",
       "      <td>Ben</td>\n",
       "      <td>Manhattan</td>\n",
       "      <td>Chinatown</td>\n",
       "      <td>40.71344</td>\n",
       "      <td>-73.99037</td>\n",
       "      <td>Entire home/apt</td>\n",
       "      <td>150</td>\n",
       "      <td>1</td>\n",
       "      <td>160</td>\n",
       "      <td>2019-06-09</td>\n",
       "      <td>1.33</td>\n",
       "      <td>4</td>\n",
       "      <td>188</td>\n",
       "    </tr>\n",
       "    <tr>\n",
       "      <th>10</th>\n",
       "      <td>5295</td>\n",
       "      <td>Beautiful 1br on Upper West Side</td>\n",
       "      <td>7702</td>\n",
       "      <td>Lena</td>\n",
       "      <td>Manhattan</td>\n",
       "      <td>Upper West Side</td>\n",
       "      <td>40.80316</td>\n",
       "      <td>-73.96545</td>\n",
       "      <td>Entire home/apt</td>\n",
       "      <td>135</td>\n",
       "      <td>5</td>\n",
       "      <td>53</td>\n",
       "      <td>2019-06-22</td>\n",
       "      <td>0.43</td>\n",
       "      <td>1</td>\n",
       "      <td>6</td>\n",
       "    </tr>\n",
       "    <tr>\n",
       "      <th>11</th>\n",
       "      <td>5441</td>\n",
       "      <td>Central Manhattan/near Broadway</td>\n",
       "      <td>7989</td>\n",
       "      <td>Kate</td>\n",
       "      <td>Manhattan</td>\n",
       "      <td>Hell's Kitchen</td>\n",
       "      <td>40.76076</td>\n",
       "      <td>-73.98867</td>\n",
       "      <td>Private room</td>\n",
       "      <td>85</td>\n",
       "      <td>2</td>\n",
       "      <td>188</td>\n",
       "      <td>2019-06-23</td>\n",
       "      <td>1.50</td>\n",
       "      <td>1</td>\n",
       "      <td>39</td>\n",
       "    </tr>\n",
       "    <tr>\n",
       "      <th>12</th>\n",
       "      <td>5803</td>\n",
       "      <td>Lovely Room 1, Garden, Best Area, Legal rental</td>\n",
       "      <td>9744</td>\n",
       "      <td>Laurie</td>\n",
       "      <td>Brooklyn</td>\n",
       "      <td>South Slope</td>\n",
       "      <td>40.66829</td>\n",
       "      <td>-73.98779</td>\n",
       "      <td>Private room</td>\n",
       "      <td>89</td>\n",
       "      <td>4</td>\n",
       "      <td>167</td>\n",
       "      <td>2019-06-24</td>\n",
       "      <td>1.34</td>\n",
       "      <td>3</td>\n",
       "      <td>314</td>\n",
       "    </tr>\n",
       "    <tr>\n",
       "      <th>13</th>\n",
       "      <td>6021</td>\n",
       "      <td>Wonderful Guest Bedroom in Manhattan for SINGLES</td>\n",
       "      <td>11528</td>\n",
       "      <td>Claudio</td>\n",
       "      <td>Manhattan</td>\n",
       "      <td>Upper West Side</td>\n",
       "      <td>40.79826</td>\n",
       "      <td>-73.96113</td>\n",
       "      <td>Private room</td>\n",
       "      <td>85</td>\n",
       "      <td>2</td>\n",
       "      <td>113</td>\n",
       "      <td>2019-07-05</td>\n",
       "      <td>0.91</td>\n",
       "      <td>1</td>\n",
       "      <td>333</td>\n",
       "    </tr>\n",
       "    <tr>\n",
       "      <th>14</th>\n",
       "      <td>6090</td>\n",
       "      <td>West Village Nest - Superhost</td>\n",
       "      <td>11975</td>\n",
       "      <td>Alina</td>\n",
       "      <td>Manhattan</td>\n",
       "      <td>West Village</td>\n",
       "      <td>40.73530</td>\n",
       "      <td>-74.00525</td>\n",
       "      <td>Entire home/apt</td>\n",
       "      <td>120</td>\n",
       "      <td>90</td>\n",
       "      <td>27</td>\n",
       "      <td>2018-10-31</td>\n",
       "      <td>0.22</td>\n",
       "      <td>1</td>\n",
       "      <td>0</td>\n",
       "    </tr>\n",
       "    <tr>\n",
       "      <th>15</th>\n",
       "      <td>6848</td>\n",
       "      <td>Only 2 stops to Manhattan studio</td>\n",
       "      <td>15991</td>\n",
       "      <td>Allen &amp; Irina</td>\n",
       "      <td>Brooklyn</td>\n",
       "      <td>Williamsburg</td>\n",
       "      <td>40.70837</td>\n",
       "      <td>-73.95352</td>\n",
       "      <td>Entire home/apt</td>\n",
       "      <td>140</td>\n",
       "      <td>2</td>\n",
       "      <td>148</td>\n",
       "      <td>2019-06-29</td>\n",
       "      <td>1.20</td>\n",
       "      <td>1</td>\n",
       "      <td>46</td>\n",
       "    </tr>\n",
       "    <tr>\n",
       "      <th>16</th>\n",
       "      <td>7097</td>\n",
       "      <td>Perfect for Your Parents + Garden</td>\n",
       "      <td>17571</td>\n",
       "      <td>Jane</td>\n",
       "      <td>Brooklyn</td>\n",
       "      <td>Fort Greene</td>\n",
       "      <td>40.69169</td>\n",
       "      <td>-73.97185</td>\n",
       "      <td>Entire home/apt</td>\n",
       "      <td>215</td>\n",
       "      <td>2</td>\n",
       "      <td>198</td>\n",
       "      <td>2019-06-28</td>\n",
       "      <td>1.72</td>\n",
       "      <td>1</td>\n",
       "      <td>321</td>\n",
       "    </tr>\n",
       "    <tr>\n",
       "      <th>17</th>\n",
       "      <td>7322</td>\n",
       "      <td>Chelsea Perfect</td>\n",
       "      <td>18946</td>\n",
       "      <td>Doti</td>\n",
       "      <td>Manhattan</td>\n",
       "      <td>Chelsea</td>\n",
       "      <td>40.74192</td>\n",
       "      <td>-73.99501</td>\n",
       "      <td>Private room</td>\n",
       "      <td>140</td>\n",
       "      <td>1</td>\n",
       "      <td>260</td>\n",
       "      <td>2019-07-01</td>\n",
       "      <td>2.12</td>\n",
       "      <td>1</td>\n",
       "      <td>12</td>\n",
       "    </tr>\n",
       "    <tr>\n",
       "      <th>18</th>\n",
       "      <td>7726</td>\n",
       "      <td>Hip Historic Brownstone Apartment with Backyard</td>\n",
       "      <td>20950</td>\n",
       "      <td>Adam And Charity</td>\n",
       "      <td>Brooklyn</td>\n",
       "      <td>Crown Heights</td>\n",
       "      <td>40.67592</td>\n",
       "      <td>-73.94694</td>\n",
       "      <td>Entire home/apt</td>\n",
       "      <td>99</td>\n",
       "      <td>3</td>\n",
       "      <td>53</td>\n",
       "      <td>2019-06-22</td>\n",
       "      <td>4.44</td>\n",
       "      <td>1</td>\n",
       "      <td>21</td>\n",
       "    </tr>\n",
       "    <tr>\n",
       "      <th>19</th>\n",
       "      <td>7750</td>\n",
       "      <td>Huge 2 BR Upper East  Cental Park</td>\n",
       "      <td>17985</td>\n",
       "      <td>Sing</td>\n",
       "      <td>Manhattan</td>\n",
       "      <td>East Harlem</td>\n",
       "      <td>40.79685</td>\n",
       "      <td>-73.94872</td>\n",
       "      <td>Entire home/apt</td>\n",
       "      <td>190</td>\n",
       "      <td>7</td>\n",
       "      <td>0</td>\n",
       "      <td>NaN</td>\n",
       "      <td>NaN</td>\n",
       "      <td>2</td>\n",
       "      <td>249</td>\n",
       "    </tr>\n",
       "  </tbody>\n",
       "</table>\n",
       "</div>"
      ],
      "text/plain": [
       "      id                                              name  host_id  \\\n",
       "0   2539                Clean & quiet apt home by the park     2787   \n",
       "1   2595                             Skylit Midtown Castle     2845   \n",
       "2   3647               THE VILLAGE OF HARLEM....NEW YORK !     4632   \n",
       "3   3831                   Cozy Entire Floor of Brownstone     4869   \n",
       "4   5022  Entire Apt: Spacious Studio/Loft by central park     7192   \n",
       "5   5099         Large Cozy 1 BR Apartment In Midtown East     7322   \n",
       "6   5121                                   BlissArtsSpace!     7356   \n",
       "7   5178                  Large Furnished Room Near B'way      8967   \n",
       "8   5203                Cozy Clean Guest Room - Family Apt     7490   \n",
       "9   5238                Cute & Cozy Lower East Side 1 bdrm     7549   \n",
       "10  5295                  Beautiful 1br on Upper West Side     7702   \n",
       "11  5441                   Central Manhattan/near Broadway     7989   \n",
       "12  5803    Lovely Room 1, Garden, Best Area, Legal rental     9744   \n",
       "13  6021  Wonderful Guest Bedroom in Manhattan for SINGLES    11528   \n",
       "14  6090                     West Village Nest - Superhost    11975   \n",
       "15  6848                  Only 2 stops to Manhattan studio    15991   \n",
       "16  7097                 Perfect for Your Parents + Garden    17571   \n",
       "17  7322                                   Chelsea Perfect    18946   \n",
       "18  7726   Hip Historic Brownstone Apartment with Backyard    20950   \n",
       "19  7750                 Huge 2 BR Upper East  Cental Park    17985   \n",
       "\n",
       "           host_name neighbourhood_group       neighbourhood  latitude  \\\n",
       "0               John            Brooklyn          Kensington  40.64749   \n",
       "1           Jennifer           Manhattan             Midtown  40.75362   \n",
       "2          Elisabeth           Manhattan              Harlem  40.80902   \n",
       "3        LisaRoxanne            Brooklyn        Clinton Hill  40.68514   \n",
       "4              Laura           Manhattan         East Harlem  40.79851   \n",
       "5              Chris           Manhattan         Murray Hill  40.74767   \n",
       "6              Garon            Brooklyn  Bedford-Stuyvesant  40.68688   \n",
       "7           Shunichi           Manhattan      Hell's Kitchen  40.76489   \n",
       "8          MaryEllen           Manhattan     Upper West Side  40.80178   \n",
       "9                Ben           Manhattan           Chinatown  40.71344   \n",
       "10              Lena           Manhattan     Upper West Side  40.80316   \n",
       "11              Kate           Manhattan      Hell's Kitchen  40.76076   \n",
       "12            Laurie            Brooklyn         South Slope  40.66829   \n",
       "13           Claudio           Manhattan     Upper West Side  40.79826   \n",
       "14             Alina           Manhattan        West Village  40.73530   \n",
       "15     Allen & Irina            Brooklyn        Williamsburg  40.70837   \n",
       "16              Jane            Brooklyn         Fort Greene  40.69169   \n",
       "17              Doti           Manhattan             Chelsea  40.74192   \n",
       "18  Adam And Charity            Brooklyn       Crown Heights  40.67592   \n",
       "19              Sing           Manhattan         East Harlem  40.79685   \n",
       "\n",
       "    longitude        room_type  price  minimum_nights  number_of_reviews  \\\n",
       "0   -73.97237     Private room    149               1                  9   \n",
       "1   -73.98377  Entire home/apt    225               1                 45   \n",
       "2   -73.94190     Private room    150               3                  0   \n",
       "3   -73.95976  Entire home/apt     89               1                270   \n",
       "4   -73.94399  Entire home/apt     80              10                  9   \n",
       "5   -73.97500  Entire home/apt    200               3                 74   \n",
       "6   -73.95596     Private room     60              45                 49   \n",
       "7   -73.98493     Private room     79               2                430   \n",
       "8   -73.96723     Private room     79               2                118   \n",
       "9   -73.99037  Entire home/apt    150               1                160   \n",
       "10  -73.96545  Entire home/apt    135               5                 53   \n",
       "11  -73.98867     Private room     85               2                188   \n",
       "12  -73.98779     Private room     89               4                167   \n",
       "13  -73.96113     Private room     85               2                113   \n",
       "14  -74.00525  Entire home/apt    120              90                 27   \n",
       "15  -73.95352  Entire home/apt    140               2                148   \n",
       "16  -73.97185  Entire home/apt    215               2                198   \n",
       "17  -73.99501     Private room    140               1                260   \n",
       "18  -73.94694  Entire home/apt     99               3                 53   \n",
       "19  -73.94872  Entire home/apt    190               7                  0   \n",
       "\n",
       "   last_review  reviews_per_month  calculated_host_listings_count  \\\n",
       "0   2018-10-19               0.21                               6   \n",
       "1   2019-05-21               0.38                               2   \n",
       "2          NaN                NaN                               1   \n",
       "3   2019-07-05               4.64                               1   \n",
       "4   2018-11-19               0.10                               1   \n",
       "5   2019-06-22               0.59                               1   \n",
       "6   2017-10-05               0.40                               1   \n",
       "7   2019-06-24               3.47                               1   \n",
       "8   2017-07-21               0.99                               1   \n",
       "9   2019-06-09               1.33                               4   \n",
       "10  2019-06-22               0.43                               1   \n",
       "11  2019-06-23               1.50                               1   \n",
       "12  2019-06-24               1.34                               3   \n",
       "13  2019-07-05               0.91                               1   \n",
       "14  2018-10-31               0.22                               1   \n",
       "15  2019-06-29               1.20                               1   \n",
       "16  2019-06-28               1.72                               1   \n",
       "17  2019-07-01               2.12                               1   \n",
       "18  2019-06-22               4.44                               1   \n",
       "19         NaN                NaN                               2   \n",
       "\n",
       "    availability_365  \n",
       "0                365  \n",
       "1                355  \n",
       "2                365  \n",
       "3                194  \n",
       "4                  0  \n",
       "5                129  \n",
       "6                  0  \n",
       "7                220  \n",
       "8                  0  \n",
       "9                188  \n",
       "10                 6  \n",
       "11                39  \n",
       "12               314  \n",
       "13               333  \n",
       "14                 0  \n",
       "15                46  \n",
       "16               321  \n",
       "17                12  \n",
       "18                21  \n",
       "19               249  "
      ]
     },
     "execution_count": 11,
     "metadata": {},
     "output_type": "execute_result"
    }
   ],
   "source": [
    "# Load the CSV file into a DataFrame\n",
    "nyc_df_JPS = pd.read_csv('AB_NYC_2019.csv')\n",
    "# display first few data in the file\n",
    "nyc_df_JPS.head(20)"
   ]
  },
  {
   "cell_type": "markdown",
   "id": "ac215bab",
   "metadata": {},
   "source": [
    "Examine Outliers"
   ]
  },
  {
   "cell_type": "code",
   "execution_count": 12,
   "id": "1d32a4b1",
   "metadata": {},
   "outputs": [
    {
     "data": {
      "text/plain": [
       "Text(0.5, 1.0, 'Boxplot of Price')"
      ]
     },
     "execution_count": 12,
     "metadata": {},
     "output_type": "execute_result"
    },
    {
     "data": {
      "image/png": "[encoded data removed]",
      "text/plain": [
       "<Figure size 640x480 with 1 Axes>"
      ]
     },
     "metadata": {},
     "output_type": "display_data"
    }
   ],
   "source": [
    "# Explore the dataset and create a boxplot for the price column\n",
    "# Create a boxplot for the 'price' column\n",
    "boxplot = nyc_df_JPS.boxplot(column=[\"price\"])\n",
    "plt.title('Boxplot of Price')\n",
    "plt.show()"
   ]
  },
  {
   "cell_type": "markdown",
   "id": "428f42c6",
   "metadata": {},
   "source": [
    "Cleaning the data\n",
    "from above output we are going to remove the extream far data such as price is too far and can be considered as outliers\n"
   ]
  },
  {
   "cell_type": "code",
   "execution_count": 13,
   "id": "77d47a83",
   "metadata": {},
   "outputs": [
    {
     "name": "stdout",
     "output_type": "stream",
     "text": [
      "Original shape: (48895, 16)\n",
      "Cleaned shape: (47132, 16)\n"
     ]
    }
   ],
   "source": [
    "# Inspect original shape\n",
    "print(\"Original shape:\", nyc_df_JPS.shape)\n",
    "\n",
    "# Filter out rows where price > 400\n",
    "clean_nyc_df_JPS = nyc_df_JPS[nyc_df_JPS['price'] <= 400]\n",
    "\n",
    "# Inspect cleaned shape\n",
    "print(\"Cleaned shape:\", clean_nyc_df_JPS.shape)\n"
   ]
  },
  {
   "cell_type": "code",
   "execution_count": 14,
   "id": "3cfe47f0",
   "metadata": {},
   "outputs": [
    {
     "data": {
      "text/plain": [
       "<Axes: >"
      ]
     },
     "execution_count": 14,
     "metadata": {},
     "output_type": "execute_result"
    },
    {
     "data": {
      "text/plain": [
       "Text(0.5, 1.0, 'Boxplot of Price (After Removing Outliers > 400)')"
      ]
     },
     "execution_count": 14,
     "metadata": {},
     "output_type": "execute_result"
    },
    {
     "data": {
      "text/plain": [
       "Text(0, 0.5, 'Price')"
      ]
     },
     "execution_count": 14,
     "metadata": {},
     "output_type": "execute_result"
    },
    {
     "data": {
      "image/png": "[encoded data removed]",
      "text/plain": [
       "<Figure size 640x480 with 1 Axes>"
      ]
     },
     "metadata": {},
     "output_type": "display_data"
    }
   ],
   "source": [
    "# Visualize cleaned price distribution\n",
    "clean_nyc_df_JPS.boxplot(column=['price'])\n",
    "plt.title(\"Boxplot of Price (After Removing Outliers > 400)\")\n",
    "plt.ylabel(\"Price\")\n",
    "plt.show()\n"
   ]
  },
  {
   "cell_type": "code",
   "execution_count": 15,
   "id": "6698ba9c",
   "metadata": {},
   "outputs": [
    {
     "name": "stdout",
     "output_type": "stream",
     "text": [
      "Indices of outliers based on Z-score threshold of 2: [   85   345   496   653   662   691   762   780   946  1105  1201  1315\n",
      "  1414  1426  1480  1553  1862  1899  1910  2018  2040  2100  2155  2215\n",
      "  2236  2296  2355  2356  2386  2520  2523  2618  2698  2772  2896  3049\n",
      "  3055  3131  3233  3240  3306  3333  3345  3365  3420  3435  3478  3537\n",
      "  3575  3594  3597  3598  3601  3622  3635  3636  3637  3644  3670  3684\n",
      "  3687  3689  3695  3696  3697  3700  3702  3720  3721  3723  3727  3730\n",
      "  3731  3732  3750  3755  3758  3761  3774  3782  3784  3785  3788  3792\n",
      "  3793  3796  3804  3808  3812  3813  3817  3825  3933  4127  4292  4345\n",
      "  4376  4377  4428  4482  4503  4719  4730  4818  5351  5432  5499  5756\n",
      "  5801  5839  5861  5916  5942  5956  6107  6277  6333  6397  6501  6511\n",
      "  6530  6620  6715  6978  6987  7017  7088  7096  7190  7356  7370  7430\n",
      "  7477  7485  7513  7541  7846  7982  8006  8055  8521  8522  8530  8573\n",
      "  8727  8805  8915  8944  9035  9039  9045  9056  9092  9151  9211  9365\n",
      "  9520  9546  9603  9821  9880  9883 10212 10333 10341 10431 10520 10725\n",
      " 10996 11021 11070 11089 11239 11264 11271 11289 11339 11360 11369 11394\n",
      " 11560 11743 11900 11913 12270 12329 12342 12740 12788 12794 12800 12801\n",
      " 12844 12846 12878 12983 13316 13467 13724 13788 13930 14166 14243 14380\n",
      " 14385 14392 14459 14544 14573 14574 14629 14747 14951 15015 15091 15107\n",
      " 15154 15262 15390 15470 15544 15560 15576 15617 15677 15833 15837 15890\n",
      " 15913 16016 16040 16122 16140 16271 16508 16545 16875 17170 17218 17579\n",
      " 17623 17652 17665 17692 17780 17811 17887 17977 18170 18171 18356 18407\n",
      " 18412 18420 18519 18565 18582 18632 18740 18752 18975 19060 19061 19073\n",
      " 19121 19122 19126 19135 19138 19139 19153 19154 19159 19160 19183 19236\n",
      " 19270 19304 19429 19430 19435 19474 19684 19802 19803 19831 19876 19905\n",
      " 20011 20025 20093 20094 20104 20107 20108 20164 20185 20187 20219 20341\n",
      " 20407 20459 20512 20551 20819 20889 21001 21176 21220 21231 21241 21369\n",
      " 21481 21821 21955 22069 22073 22353 22373 22405 22407 22472 22586 22635\n",
      " 22976 22992 23149 23336 23396 23411 23486 23545 23584 23624 23649 23694\n",
      " 23813 23865 24219 24286 24477 24494 24512 24540 24632 24907 24993 25009\n",
      " 25064 25258 25318 25386 25402 25422 25516 25555 25744 25771 25825 25901\n",
      " 25947 26379 26398 26400 26443 26451 26617 26691 26739 26781 26786 26810\n",
      " 26994 27186 27258 27512 27590 27600 27714 27774 27785 27922 28099 28141\n",
      " 28150 28177 28199 28205 28239 28569 28727 28812 28858 28945 28946 28947\n",
      " 28952 29064 29237 29238 29394 29576 29661 29662 29663 29664 29665 29666\n",
      " 29673 29681 29683 29994 30080 30216 30257 30259 30260 30268 30453 30661\n",
      " 30680 30697 30722 30824 30857 30916 31046 31097 31101 31105 31338 31507\n",
      " 31532 31626 31669 31866 31944 31954 32003 32041 32118 32151 32291 32372\n",
      " 32405 32439 32544 32571 32734 32796 32904 32920 32938 33078 33137 33150\n",
      " 33240 33430 33571 33755 34036 34117 34118 34131 34203 34244 34310 34332\n",
      " 34333 34334 34335 34336 34337 34338 34339 34340 34341 34342 34343 34344\n",
      " 34345 34346 34347 34348 34349 34350 34351 34352 34353 34517 34613 34693\n",
      " 34758 34844 34851 35015 35258 35297 35415 35695 35809 35814 35835 35920\n",
      " 35922 36123 36536 36571 36712 36833 36842 36977 37083 37136 37179 37194\n",
      " 37253 37341 37381 37450 37570 37588 37634 37641 37678 37775 37783 37828\n",
      " 37864 37879 38000 38122 38134 38220 38223 38310 38311 38312 38313 38314\n",
      " 38315 38316 38317 38318 38319 38320 38321 38322 38323 38324 38325 38326\n",
      " 38327 38328 38329 38330 38331 38332 38333 38334 38335 38358 38433 38456\n",
      " 38498 38591 38831 38920 38947 38954 38981 38998 39074 39139 39158 39243\n",
      " 39715 39736 39742 39766 39814 39846 39861 39892 39912 39961 40032 40086\n",
      " 40152 40379 40412 40433 40586 40597 40638 40651 40734 40764 40886 41043\n",
      " 41045 41181 41214 41215 41216 41224 41230 41251 41272 41283 41400 41525\n",
      " 41580 41583 41584 41585 41600 41647 41668 41715 41770 41892 41893 42047\n",
      " 42104 42172 42199 42523 42542 42680 42736 42759 42846 42865 42912 42915\n",
      " 43009 43062 43070 43130 43146 43201 43211 43266 43418 43491 43563 43581\n",
      " 43588 43653 43670 43923 44014 44034 44162 44167 44224 44254 44326 44345\n",
      " 44375 44429 44462 44476 44582 44585 44587 44590 44604 44647 44694 44876\n",
      " 45031 45114 45119 45170 45185 45261 45414 45531 45572 45574 45575 45576\n",
      " 45577 45610 45627 45651 45666 45710 45749 45766 45768 45778 45841 45866\n",
      " 45867 45869 45884 45886 45888 45891 45901 45967 45988 46000 46003 46137\n",
      " 46140 46291 46298 46337 46377 46388 46392 46397 46402 46406 46432 46438\n",
      " 46465 46533 46596 46614 46630 46710 46735 46803 46850 46880 46895 46931\n",
      " 46965 46978 47037 47041 47063 47094 47206 47350 47391 47400 47454 47533\n",
      " 47548 47616 47670 47748 47814 47821 47869 47870 47950 47995 48043 48050\n",
      " 48080 48282 48301 48304 48305 48343 48523 48535 48697 48757 48839]\n"
     ]
    },
    {
     "data": {
      "text/plain": [
       "(48895, 16)"
      ]
     },
     "execution_count": 15,
     "metadata": {},
     "output_type": "execute_result"
    },
    {
     "data": {
      "text/plain": [
       "(48092, 16)"
      ]
     },
     "execution_count": 15,
     "metadata": {},
     "output_type": "execute_result"
    }
   ],
   "source": [
    "z_jps = np.abs(stats.zscore(nyc_df_JPS['price']))\n",
    "\n",
    "threshold_z_jps = 2\n",
    "out_id_jps = np.where(z_jps > threshold_z_jps)[0]\n",
    "\n",
    "# Display the indices of outliers\n",
    "print(\"Indices of outliers based on Z-score threshold of 2:\", out_id_jps)   \n",
    "\n",
    "study_jps = nyc_df_JPS.drop(out_id_jps)\n",
    "nyc_df_JPS.shape\n",
    "\n",
    "study_jps = study_jps.drop(study_jps[study_jps['price'] < 15].index)\n",
    "\n",
    "study_jps.shape\n"
   ]
  },
  {
   "cell_type": "markdown",
   "id": "cf47fe8e",
   "metadata": {},
   "source": [
    "Encode Neighbourhood and Price"
   ]
  },
  {
   "cell_type": "code",
   "execution_count": null,
   "id": "0b2ad731",
   "metadata": {},
   "outputs": [
    {
     "data": {
      "application/vnd.microsoft.datawrangler.viewer.v0+json": {
       "columns": [
        {
         "name": "index",
         "rawType": "int64",
         "type": "integer"
        },
        {
         "name": "id",
         "rawType": "int64",
         "type": "integer"
        },
        {
         "name": "name",
         "rawType": "object",
         "type": "string"
        },
        {
         "name": "host_id",
         "rawType": "int64",
         "type": "integer"
        },
        {
         "name": "host_name",
         "rawType": "object",
         "type": "string"
        },
        {
         "name": "neighbourhood_group",
         "rawType": "object",
         "type": "string"
        },
        {
         "name": "neighbourhood",
         "rawType": "object",
         "type": "string"
        },
        {
         "name": "latitude",
         "rawType": "float64",
         "type": "float"
        },
        {
         "name": "longitude",
         "rawType": "float64",
         "type": "float"
        },
        {
         "name": "room_type",
         "rawType": "object",
         "type": "string"
        },
        {
         "name": "price",
         "rawType": "int64",
         "type": "integer"
        },
        {
         "name": "minimum_nights",
         "rawType": "int64",
         "type": "integer"
        },
        {
         "name": "number_of_reviews",
         "rawType": "int64",
         "type": "integer"
        },
        {
         "name": "last_review",
         "rawType": "object",
         "type": "unknown"
        },
        {
         "name": "reviews_per_month",
         "rawType": "float64",
         "type": "float"
        },
        {
         "name": "calculated_host_listings_count",
         "rawType": "int64",
         "type": "integer"
        },
        {
         "name": "availability_365",
         "rawType": "int64",
         "type": "integer"
        }
       ],
       "ref": "1828fff5-c6e0-4392-ac95-ca9a79bbb255",
       "rows": [
        [
         "0",
         "2539",
         "Clean & quiet apt home by the park",
         "2787",
         "John",
         "Brooklyn",
         "Kensington",
         "40.64749",
         "-73.97237",
         "Private room",
         "149",
         "1",
         "9",
         "2018-10-19",
         "0.21",
         "6",
         "365"
        ],
        [
         "1",
         "2595",
         "Skylit Midtown Castle",
         "2845",
         "Jennifer",
         "Manhattan",
         "Midtown",
         "40.75362",
         "-73.98377",
         "Entire home/apt",
         "225",
         "1",
         "45",
         "2019-05-21",
         "0.38",
         "2",
         "355"
        ],
        [
         "2",
         "3647",
         "THE VILLAGE OF HARLEM....NEW YORK !",
         "4632",
         "Elisabeth",
         "Manhattan",
         "Harlem",
         "40.80902",
         "-73.9419",
         "Private room",
         "150",
         "3",
         "0",
         null,
         null,
         "1",
         "365"
        ],
        [
         "3",
         "3831",
         "Cozy Entire Floor of Brownstone",
         "4869",
         "LisaRoxanne",
         "Brooklyn",
         "Clinton Hill",
         "40.68514",
         "-73.95976",
         "Entire home/apt",
         "89",
         "1",
         "270",
         "2019-07-05",
         "4.64",
         "1",
         "194"
        ],
        [
         "4",
         "5022",
         "Entire Apt: Spacious Studio/Loft by central park",
         "7192",
         "Laura",
         "Manhattan",
         "East Harlem",
         "40.79851",
         "-73.94399",
         "Entire home/apt",
         "80",
         "10",
         "9",
         "2018-11-19",
         "0.1",
         "1",
         "0"
        ]
       ],
       "shape": {
        "columns": 16,
        "rows": 5
       }
      },
      "text/html": [
       "<div>\n",
       "<style scoped>\n",
       "    .dataframe tbody tr th:only-of-type {\n",
       "        vertical-align: middle;\n",
       "    }\n",
       "\n",
       "    .dataframe tbody tr th {\n",
       "        vertical-align: top;\n",
       "    }\n",
       "\n",
       "    .dataframe thead th {\n",
       "        text-align: right;\n",
       "    }\n",
       "</style>\n",
       "<table border=\"1\" class=\"dataframe\">\n",
       "  <thead>\n",
       "    <tr style=\"text-align: right;\">\n",
       "      <th></th>\n",
       "      <th>id</th>\n",
       "      <th>name</th>\n",
       "      <th>host_id</th>\n",
       "      <th>host_name</th>\n",
       "      <th>neighbourhood_group</th>\n",
       "      <th>neighbourhood</th>\n",
       "      <th>latitude</th>\n",
       "      <th>longitude</th>\n",
       "      <th>room_type</th>\n",
       "      <th>price</th>\n",
       "      <th>minimum_nights</th>\n",
       "      <th>number_of_reviews</th>\n",
       "      <th>last_review</th>\n",
       "      <th>reviews_per_month</th>\n",
       "      <th>calculated_host_listings_count</th>\n",
       "      <th>availability_365</th>\n",
       "    </tr>\n",
       "  </thead>\n",
       "  <tbody>\n",
       "    <tr>\n",
       "      <th>0</th>\n",
       "      <td>2539</td>\n",
       "      <td>Clean &amp; quiet apt home by the park</td>\n",
       "      <td>2787</td>\n",
       "      <td>John</td>\n",
       "      <td>Brooklyn</td>\n",
       "      <td>Kensington</td>\n",
       "      <td>40.64749</td>\n",
       "      <td>-73.97237</td>\n",
       "      <td>Private room</td>\n",
       "      <td>149</td>\n",
       "      <td>1</td>\n",
       "      <td>9</td>\n",
       "      <td>2018-10-19</td>\n",
       "      <td>0.21</td>\n",
       "      <td>6</td>\n",
       "      <td>365</td>\n",
       "    </tr>\n",
       "    <tr>\n",
       "      <th>1</th>\n",
       "      <td>2595</td>\n",
       "      <td>Skylit Midtown Castle</td>\n",
       "      <td>2845</td>\n",
       "      <td>Jennifer</td>\n",
       "      <td>Manhattan</td>\n",
       "      <td>Midtown</td>\n",
       "      <td>40.75362</td>\n",
       "      <td>-73.98377</td>\n",
       "      <td>Entire home/apt</td>\n",
       "      <td>225</td>\n",
       "      <td>1</td>\n",
       "      <td>45</td>\n",
       "      <td>2019-05-21</td>\n",
       "      <td>0.38</td>\n",
       "      <td>2</td>\n",
       "      <td>355</td>\n",
       "    </tr>\n",
       "    <tr>\n",
       "      <th>2</th>\n",
       "      <td>3647</td>\n",
       "      <td>THE VILLAGE OF HARLEM....NEW YORK !</td>\n",
       "      <td>4632</td>\n",
       "      <td>Elisabeth</td>\n",
       "      <td>Manhattan</td>\n",
       "      <td>Harlem</td>\n",
       "      <td>40.80902</td>\n",
       "      <td>-73.94190</td>\n",
       "      <td>Private room</td>\n",
       "      <td>150</td>\n",
       "      <td>3</td>\n",
       "      <td>0</td>\n",
       "      <td>NaN</td>\n",
       "      <td>NaN</td>\n",
       "      <td>1</td>\n",
       "      <td>365</td>\n",
       "    </tr>\n",
       "    <tr>\n",
       "      <th>3</th>\n",
       "      <td>3831</td>\n",
       "      <td>Cozy Entire Floor of Brownstone</td>\n",
       "      <td>4869</td>\n",
       "      <td>LisaRoxanne</td>\n",
       "      <td>Brooklyn</td>\n",
       "      <td>Clinton Hill</td>\n",
       "      <td>40.68514</td>\n",
       "      <td>-73.95976</td>\n",
       "      <td>Entire home/apt</td>\n",
       "      <td>89</td>\n",
       "      <td>1</td>\n",
       "      <td>270</td>\n",
       "      <td>2019-07-05</td>\n",
       "      <td>4.64</td>\n",
       "      <td>1</td>\n",
       "      <td>194</td>\n",
       "    </tr>\n",
       "    <tr>\n",
       "      <th>4</th>\n",
       "      <td>5022</td>\n",
       "      <td>Entire Apt: Spacious Studio/Loft by central park</td>\n",
       "      <td>7192</td>\n",
       "      <td>Laura</td>\n",
       "      <td>Manhattan</td>\n",
       "      <td>East Harlem</td>\n",
       "      <td>40.79851</td>\n",
       "      <td>-73.94399</td>\n",
       "      <td>Entire home/apt</td>\n",
       "      <td>80</td>\n",
       "      <td>10</td>\n",
       "      <td>9</td>\n",
       "      <td>2018-11-19</td>\n",
       "      <td>0.10</td>\n",
       "      <td>1</td>\n",
       "      <td>0</td>\n",
       "    </tr>\n",
       "  </tbody>\n",
       "</table>\n",
       "</div>"
      ],
      "text/plain": [
       "     id                                              name  host_id  \\\n",
       "0  2539                Clean & quiet apt home by the park     2787   \n",
       "1  2595                             Skylit Midtown Castle     2845   \n",
       "2  3647               THE VILLAGE OF HARLEM....NEW YORK !     4632   \n",
       "3  3831                   Cozy Entire Floor of Brownstone     4869   \n",
       "4  5022  Entire Apt: Spacious Studio/Loft by central park     7192   \n",
       "\n",
       "     host_name neighbourhood_group neighbourhood  latitude  longitude  \\\n",
       "0         John            Brooklyn    Kensington  40.64749  -73.97237   \n",
       "1     Jennifer           Manhattan       Midtown  40.75362  -73.98377   \n",
       "2    Elisabeth           Manhattan        Harlem  40.80902  -73.94190   \n",
       "3  LisaRoxanne            Brooklyn  Clinton Hill  40.68514  -73.95976   \n",
       "4        Laura           Manhattan   East Harlem  40.79851  -73.94399   \n",
       "\n",
       "         room_type  price  minimum_nights  number_of_reviews last_review  \\\n",
       "0     Private room    149               1                  9  2018-10-19   \n",
       "1  Entire home/apt    225               1                 45  2019-05-21   \n",
       "2     Private room    150               3                  0         NaN   \n",
       "3  Entire home/apt     89               1                270  2019-07-05   \n",
       "4  Entire home/apt     80              10                  9  2018-11-19   \n",
       "\n",
       "   reviews_per_month  calculated_host_listings_count  availability_365  \n",
       "0               0.21                               6               365  \n",
       "1               0.38                               2               355  \n",
       "2                NaN                               1               365  \n",
       "3               4.64                               1               194  \n",
       "4               0.10                               1                 0  "
      ]
     },
     "execution_count": 17,
     "metadata": {},
     "output_type": "execute_result"
    },
    {
     "data": {
      "application/vnd.microsoft.datawrangler.viewer.v0+json": {
       "columns": [
        {
         "name": "neighbourhood_group",
         "rawType": "object",
         "type": "string"
        },
        {
         "name": "price",
         "rawType": "float64",
         "type": "float"
        }
       ],
       "ref": "9f454b8d-505e-4431-a24c-753cebd4d7c3",
       "rows": [
        [
         "Bronx",
         "82.84040590405904"
        ],
        [
         "Brooklyn",
         "114.40153529677387"
        ],
        [
         "Manhattan",
         "167.09154762469745"
        ],
        [
         "Queens",
         "93.5273984749069"
        ],
        [
         "Staten Island",
         "92.81198910081744"
        ]
       ],
       "shape": {
        "columns": 1,
        "rows": 5
       }
      },
      "text/plain": [
       "neighbourhood_group\n",
       "Bronx             82.840406\n",
       "Brooklyn         114.401535\n",
       "Manhattan        167.091548\n",
       "Queens            93.527398\n",
       "Staten Island     92.811989\n",
       "Name: price, dtype: float64"
      ]
     },
     "execution_count": 17,
     "metadata": {},
     "output_type": "execute_result"
    },
    {
     "data": {
      "application/vnd.microsoft.datawrangler.viewer.v0+json": {
       "columns": [
        {
         "name": "index",
         "rawType": "int64",
         "type": "integer"
        },
        {
         "name": "id",
         "rawType": "int64",
         "type": "integer"
        },
        {
         "name": "name",
         "rawType": "object",
         "type": "string"
        },
        {
         "name": "host_id",
         "rawType": "int64",
         "type": "integer"
        },
        {
         "name": "host_name",
         "rawType": "object",
         "type": "string"
        },
        {
         "name": "neighbourhood_group",
         "rawType": "object",
         "type": "string"
        },
        {
         "name": "neighbourhood",
         "rawType": "object",
         "type": "string"
        },
        {
         "name": "latitude",
         "rawType": "float64",
         "type": "float"
        },
        {
         "name": "longitude",
         "rawType": "float64",
         "type": "float"
        },
        {
         "name": "room_type",
         "rawType": "object",
         "type": "string"
        },
        {
         "name": "price",
         "rawType": "int64",
         "type": "integer"
        },
        {
         "name": "minimum_nights",
         "rawType": "int64",
         "type": "integer"
        },
        {
         "name": "number_of_reviews",
         "rawType": "int64",
         "type": "integer"
        },
        {
         "name": "last_review",
         "rawType": "object",
         "type": "unknown"
        },
        {
         "name": "reviews_per_month",
         "rawType": "float64",
         "type": "float"
        },
        {
         "name": "calculated_host_listings_count",
         "rawType": "int64",
         "type": "integer"
        },
        {
         "name": "availability_365",
         "rawType": "int64",
         "type": "integer"
        },
        {
         "name": "E_Neigh_G",
         "rawType": "float64",
         "type": "float"
        }
       ],
       "ref": "b7591d18-b1b1-4064-9472-a05cc222de6b",
       "rows": [
        [
         "0",
         "2539",
         "Clean & quiet apt home by the park",
         "2787",
         "John",
         "Brooklyn",
         "Kensington",
         "40.64749",
         "-73.97237",
         "Private room",
         "149",
         "1",
         "9",
         "2018-10-19",
         "0.21",
         "6",
         "365",
         "114.40153529677387"
        ],
        [
         "1",
         "2595",
         "Skylit Midtown Castle",
         "2845",
         "Jennifer",
         "Manhattan",
         "Midtown",
         "40.75362",
         "-73.98377",
         "Entire home/apt",
         "225",
         "1",
         "45",
         "2019-05-21",
         "0.38",
         "2",
         "355",
         "167.09154762469745"
        ],
        [
         "2",
         "3647",
         "THE VILLAGE OF HARLEM....NEW YORK !",
         "4632",
         "Elisabeth",
         "Manhattan",
         "Harlem",
         "40.80902",
         "-73.9419",
         "Private room",
         "150",
         "3",
         "0",
         null,
         null,
         "1",
         "365",
         "167.09154762469745"
        ],
        [
         "3",
         "3831",
         "Cozy Entire Floor of Brownstone",
         "4869",
         "LisaRoxanne",
         "Brooklyn",
         "Clinton Hill",
         "40.68514",
         "-73.95976",
         "Entire home/apt",
         "89",
         "1",
         "270",
         "2019-07-05",
         "4.64",
         "1",
         "194",
         "114.40153529677387"
        ],
        [
         "4",
         "5022",
         "Entire Apt: Spacious Studio/Loft by central park",
         "7192",
         "Laura",
         "Manhattan",
         "East Harlem",
         "40.79851",
         "-73.94399",
         "Entire home/apt",
         "80",
         "10",
         "9",
         "2018-11-19",
         "0.1",
         "1",
         "0",
         "167.09154762469745"
        ]
       ],
       "shape": {
        "columns": 17,
        "rows": 5
       }
      },
      "text/html": [
       "<div>\n",
       "<style scoped>\n",
       "    .dataframe tbody tr th:only-of-type {\n",
       "        vertical-align: middle;\n",
       "    }\n",
       "\n",
       "    .dataframe tbody tr th {\n",
       "        vertical-align: top;\n",
       "    }\n",
       "\n",
       "    .dataframe thead th {\n",
       "        text-align: right;\n",
       "    }\n",
       "</style>\n",
       "<table border=\"1\" class=\"dataframe\">\n",
       "  <thead>\n",
       "    <tr style=\"text-align: right;\">\n",
       "      <th></th>\n",
       "      <th>id</th>\n",
       "      <th>name</th>\n",
       "      <th>host_id</th>\n",
       "      <th>host_name</th>\n",
       "      <th>neighbourhood_group</th>\n",
       "      <th>neighbourhood</th>\n",
       "      <th>latitude</th>\n",
       "      <th>longitude</th>\n",
       "      <th>room_type</th>\n",
       "      <th>price</th>\n",
       "      <th>minimum_nights</th>\n",
       "      <th>number_of_reviews</th>\n",
       "      <th>last_review</th>\n",
       "      <th>reviews_per_month</th>\n",
       "      <th>calculated_host_listings_count</th>\n",
       "      <th>availability_365</th>\n",
       "      <th>E_Neigh_G</th>\n",
       "    </tr>\n",
       "  </thead>\n",
       "  <tbody>\n",
       "    <tr>\n",
       "      <th>0</th>\n",
       "      <td>2539</td>\n",
       "      <td>Clean &amp; quiet apt home by the park</td>\n",
       "      <td>2787</td>\n",
       "      <td>John</td>\n",
       "      <td>Brooklyn</td>\n",
       "      <td>Kensington</td>\n",
       "      <td>40.64749</td>\n",
       "      <td>-73.97237</td>\n",
       "      <td>Private room</td>\n",
       "      <td>149</td>\n",
       "      <td>1</td>\n",
       "      <td>9</td>\n",
       "      <td>2018-10-19</td>\n",
       "      <td>0.21</td>\n",
       "      <td>6</td>\n",
       "      <td>365</td>\n",
       "      <td>114.401535</td>\n",
       "    </tr>\n",
       "    <tr>\n",
       "      <th>1</th>\n",
       "      <td>2595</td>\n",
       "      <td>Skylit Midtown Castle</td>\n",
       "      <td>2845</td>\n",
       "      <td>Jennifer</td>\n",
       "      <td>Manhattan</td>\n",
       "      <td>Midtown</td>\n",
       "      <td>40.75362</td>\n",
       "      <td>-73.98377</td>\n",
       "      <td>Entire home/apt</td>\n",
       "      <td>225</td>\n",
       "      <td>1</td>\n",
       "      <td>45</td>\n",
       "      <td>2019-05-21</td>\n",
       "      <td>0.38</td>\n",
       "      <td>2</td>\n",
       "      <td>355</td>\n",
       "      <td>167.091548</td>\n",
       "    </tr>\n",
       "    <tr>\n",
       "      <th>2</th>\n",
       "      <td>3647</td>\n",
       "      <td>THE VILLAGE OF HARLEM....NEW YORK !</td>\n",
       "      <td>4632</td>\n",
       "      <td>Elisabeth</td>\n",
       "      <td>Manhattan</td>\n",
       "      <td>Harlem</td>\n",
       "      <td>40.80902</td>\n",
       "      <td>-73.94190</td>\n",
       "      <td>Private room</td>\n",
       "      <td>150</td>\n",
       "      <td>3</td>\n",
       "      <td>0</td>\n",
       "      <td>NaN</td>\n",
       "      <td>NaN</td>\n",
       "      <td>1</td>\n",
       "      <td>365</td>\n",
       "      <td>167.091548</td>\n",
       "    </tr>\n",
       "    <tr>\n",
       "      <th>3</th>\n",
       "      <td>3831</td>\n",
       "      <td>Cozy Entire Floor of Brownstone</td>\n",
       "      <td>4869</td>\n",
       "      <td>LisaRoxanne</td>\n",
       "      <td>Brooklyn</td>\n",
       "      <td>Clinton Hill</td>\n",
       "      <td>40.68514</td>\n",
       "      <td>-73.95976</td>\n",
       "      <td>Entire home/apt</td>\n",
       "      <td>89</td>\n",
       "      <td>1</td>\n",
       "      <td>270</td>\n",
       "      <td>2019-07-05</td>\n",
       "      <td>4.64</td>\n",
       "      <td>1</td>\n",
       "      <td>194</td>\n",
       "      <td>114.401535</td>\n",
       "    </tr>\n",
       "    <tr>\n",
       "      <th>4</th>\n",
       "      <td>5022</td>\n",
       "      <td>Entire Apt: Spacious Studio/Loft by central park</td>\n",
       "      <td>7192</td>\n",
       "      <td>Laura</td>\n",
       "      <td>Manhattan</td>\n",
       "      <td>East Harlem</td>\n",
       "      <td>40.79851</td>\n",
       "      <td>-73.94399</td>\n",
       "      <td>Entire home/apt</td>\n",
       "      <td>80</td>\n",
       "      <td>10</td>\n",
       "      <td>9</td>\n",
       "      <td>2018-11-19</td>\n",
       "      <td>0.10</td>\n",
       "      <td>1</td>\n",
       "      <td>0</td>\n",
       "      <td>167.091548</td>\n",
       "    </tr>\n",
       "  </tbody>\n",
       "</table>\n",
       "</div>"
      ],
      "text/plain": [
       "     id                                              name  host_id  \\\n",
       "0  2539                Clean & quiet apt home by the park     2787   \n",
       "1  2595                             Skylit Midtown Castle     2845   \n",
       "2  3647               THE VILLAGE OF HARLEM....NEW YORK !     4632   \n",
       "3  3831                   Cozy Entire Floor of Brownstone     4869   \n",
       "4  5022  Entire Apt: Spacious Studio/Loft by central park     7192   \n",
       "\n",
       "     host_name neighbourhood_group neighbourhood  latitude  longitude  \\\n",
       "0         John            Brooklyn    Kensington  40.64749  -73.97237   \n",
       "1     Jennifer           Manhattan       Midtown  40.75362  -73.98377   \n",
       "2    Elisabeth           Manhattan        Harlem  40.80902  -73.94190   \n",
       "3  LisaRoxanne            Brooklyn  Clinton Hill  40.68514  -73.95976   \n",
       "4        Laura           Manhattan   East Harlem  40.79851  -73.94399   \n",
       "\n",
       "         room_type  price  minimum_nights  number_of_reviews last_review  \\\n",
       "0     Private room    149               1                  9  2018-10-19   \n",
       "1  Entire home/apt    225               1                 45  2019-05-21   \n",
       "2     Private room    150               3                  0         NaN   \n",
       "3  Entire home/apt     89               1                270  2019-07-05   \n",
       "4  Entire home/apt     80              10                  9  2018-11-19   \n",
       "\n",
       "   reviews_per_month  calculated_host_listings_count  availability_365  \\\n",
       "0               0.21                               6               365   \n",
       "1               0.38                               2               355   \n",
       "2                NaN                               1               365   \n",
       "3               4.64                               1               194   \n",
       "4               0.10                               1                 0   \n",
       "\n",
       "    E_Neigh_G  \n",
       "0  114.401535  \n",
       "1  167.091548  \n",
       "2  167.091548  \n",
       "3  114.401535  \n",
       "4  167.091548  "
      ]
     },
     "execution_count": 17,
     "metadata": {},
     "output_type": "execute_result"
    },
    {
     "data": {
      "application/vnd.microsoft.datawrangler.viewer.v0+json": {
       "columns": [
        {
         "name": "room_type",
         "rawType": "object",
         "type": "string"
        },
        {
         "name": "price",
         "rawType": "float64",
         "type": "float"
        }
       ],
       "ref": "0ad2ba35-f46a-4497-b7ed-d27a79032de6",
       "rows": [
        [
         "Entire home/apt",
         "183.72545454545454"
        ],
        [
         "Private room",
         "82.52750371671847"
        ],
        [
         "Shared room",
         "63.85764192139738"
        ]
       ],
       "shape": {
        "columns": 1,
        "rows": 3
       }
      },
      "text/plain": [
       "room_type\n",
       "Entire home/apt    183.725455\n",
       "Private room        82.527504\n",
       "Shared room         63.857642\n",
       "Name: price, dtype: float64"
      ]
     },
     "execution_count": 17,
     "metadata": {},
     "output_type": "execute_result"
    }
   ],
   "source": [
    "study_jps.head()\n",
    " \n",
    "# Target Encode Neighbourhood Group\n",
    "# Calculate the mean price for each neighbourhood group\n",
    "cm_jps = study_jps.groupby('neighbourhood_group')['price'].mean()\n",
    "# Display the mean prices\n",
    "cm_jps\n",
    "# Map the mean prices back to the original DataFrame to create a new encoded column\n",
    "study_jps['E_Neigh_G'] = study_jps['neighbourhood_group'].map(cm_jps)\n",
    "study_jps.head()\n",
    "# Target Encode Room Type\n",
    "# Calculate the mean price for each room type\n",
    "cm_jps = study_jps.groupby('room_type')['price'].mean()\n",
    "# Display the mean prices\n",
    "cm_jps\n",
    "# Map the mean prices back to the original DataFrame to create a new encoded column\n",
    "study_jps['E_room_type'] = study_jps['room_type'].map(cm_jps)"
   ]
  },
  {
   "cell_type": "markdown",
   "id": "3f17b582",
   "metadata": {},
   "source": [
    "Drop Some unwanted coulmns"
   ]
  },
  {
   "cell_type": "code",
   "execution_count": null,
   "id": "d3f48864",
   "metadata": {},
   "outputs": [
    {
     "data": {
      "text/plain": [
       "(48092, 9)"
      ]
     },
     "execution_count": 18,
     "metadata": {},
     "output_type": "execute_result"
    },
    {
     "data": {
      "application/vnd.microsoft.datawrangler.viewer.v0+json": {
       "columns": [
        {
         "name": "index",
         "rawType": "int64",
         "type": "integer"
        },
        {
         "name": "latitude",
         "rawType": "float64",
         "type": "float"
        },
        {
         "name": "longitude",
         "rawType": "float64",
         "type": "float"
        },
        {
         "name": "price",
         "rawType": "int64",
         "type": "integer"
        },
        {
         "name": "minimum_nights",
         "rawType": "int64",
         "type": "integer"
        },
        {
         "name": "number_of_reviews",
         "rawType": "int64",
         "type": "integer"
        },
        {
         "name": "calculated_host_listings_count",
         "rawType": "int64",
         "type": "integer"
        },
        {
         "name": "availability_365",
         "rawType": "int64",
         "type": "integer"
        },
        {
         "name": "E_Neigh_G",
         "rawType": "float64",
         "type": "float"
        },
        {
         "name": "E_room_type",
         "rawType": "float64",
         "type": "float"
        }
       ],
       "ref": "381436bc-0a3b-4b53-8913-bb6a3e7cb91c",
       "rows": [
        [
         "0",
         "40.64749",
         "-73.97237",
         "149",
         "1",
         "9",
         "6",
         "365",
         "114.40153529677387",
         "82.52750371671847"
        ],
        [
         "1",
         "40.75362",
         "-73.98377",
         "225",
         "1",
         "45",
         "2",
         "355",
         "167.09154762469745",
         "183.72545454545454"
        ],
        [
         "2",
         "40.80902",
         "-73.9419",
         "150",
         "3",
         "0",
         "1",
         "365",
         "167.09154762469745",
         "82.52750371671847"
        ],
        [
         "3",
         "40.68514",
         "-73.95976",
         "89",
         "1",
         "270",
         "1",
         "194",
         "114.40153529677387",
         "183.72545454545454"
        ],
        [
         "4",
         "40.79851",
         "-73.94399",
         "80",
         "10",
         "9",
         "1",
         "0",
         "167.09154762469745",
         "183.72545454545454"
        ]
       ],
       "shape": {
        "columns": 9,
        "rows": 5
       }
      },
      "text/html": [
       "<div>\n",
       "<style scoped>\n",
       "    .dataframe tbody tr th:only-of-type {\n",
       "        vertical-align: middle;\n",
       "    }\n",
       "\n",
       "    .dataframe tbody tr th {\n",
       "        vertical-align: top;\n",
       "    }\n",
       "\n",
       "    .dataframe thead th {\n",
       "        text-align: right;\n",
       "    }\n",
       "</style>\n",
       "<table border=\"1\" class=\"dataframe\">\n",
       "  <thead>\n",
       "    <tr style=\"text-align: right;\">\n",
       "      <th></th>\n",
       "      <th>latitude</th>\n",
       "      <th>longitude</th>\n",
       "      <th>price</th>\n",
       "      <th>minimum_nights</th>\n",
       "      <th>number_of_reviews</th>\n",
       "      <th>calculated_host_listings_count</th>\n",
       "      <th>availability_365</th>\n",
       "      <th>E_Neigh_G</th>\n",
       "      <th>E_room_type</th>\n",
       "    </tr>\n",
       "  </thead>\n",
       "  <tbody>\n",
       "    <tr>\n",
       "      <th>0</th>\n",
       "      <td>40.64749</td>\n",
       "      <td>-73.97237</td>\n",
       "      <td>149</td>\n",
       "      <td>1</td>\n",
       "      <td>9</td>\n",
       "      <td>6</td>\n",
       "      <td>365</td>\n",
       "      <td>114.401535</td>\n",
       "      <td>82.527504</td>\n",
       "    </tr>\n",
       "    <tr>\n",
       "      <th>1</th>\n",
       "      <td>40.75362</td>\n",
       "      <td>-73.98377</td>\n",
       "      <td>225</td>\n",
       "      <td>1</td>\n",
       "      <td>45</td>\n",
       "      <td>2</td>\n",
       "      <td>355</td>\n",
       "      <td>167.091548</td>\n",
       "      <td>183.725455</td>\n",
       "    </tr>\n",
       "    <tr>\n",
       "      <th>2</th>\n",
       "      <td>40.80902</td>\n",
       "      <td>-73.94190</td>\n",
       "      <td>150</td>\n",
       "      <td>3</td>\n",
       "      <td>0</td>\n",
       "      <td>1</td>\n",
       "      <td>365</td>\n",
       "      <td>167.091548</td>\n",
       "      <td>82.527504</td>\n",
       "    </tr>\n",
       "    <tr>\n",
       "      <th>3</th>\n",
       "      <td>40.68514</td>\n",
       "      <td>-73.95976</td>\n",
       "      <td>89</td>\n",
       "      <td>1</td>\n",
       "      <td>270</td>\n",
       "      <td>1</td>\n",
       "      <td>194</td>\n",
       "      <td>114.401535</td>\n",
       "      <td>183.725455</td>\n",
       "    </tr>\n",
       "    <tr>\n",
       "      <th>4</th>\n",
       "      <td>40.79851</td>\n",
       "      <td>-73.94399</td>\n",
       "      <td>80</td>\n",
       "      <td>10</td>\n",
       "      <td>9</td>\n",
       "      <td>1</td>\n",
       "      <td>0</td>\n",
       "      <td>167.091548</td>\n",
       "      <td>183.725455</td>\n",
       "    </tr>\n",
       "  </tbody>\n",
       "</table>\n",
       "</div>"
      ],
      "text/plain": [
       "   latitude  longitude  price  minimum_nights  number_of_reviews  \\\n",
       "0  40.64749  -73.97237    149               1                  9   \n",
       "1  40.75362  -73.98377    225               1                 45   \n",
       "2  40.80902  -73.94190    150               3                  0   \n",
       "3  40.68514  -73.95976     89               1                270   \n",
       "4  40.79851  -73.94399     80              10                  9   \n",
       "\n",
       "   calculated_host_listings_count  availability_365   E_Neigh_G  E_room_type  \n",
       "0                               6               365  114.401535    82.527504  \n",
       "1                               2               355  167.091548   183.725455  \n",
       "2                               1               365  167.091548    82.527504  \n",
       "3                               1               194  114.401535   183.725455  \n",
       "4                               1                 0  167.091548   183.725455  "
      ]
     },
     "execution_count": 18,
     "metadata": {},
     "output_type": "execute_result"
    }
   ],
   "source": [
    "# Display the updated DataFrame with the new encoded columns\n",
    "study_jps.head()\n",
    "# Drop Some unwanted columns\n",
    "study_jps = study_jps.drop(columns=['id','name', 'host_id', 'host_name','neighbourhood_group','neighbourhood','room_type',\n",
    "                   'last_review','reviews_per_month'])\n",
    "# Display the shape and first few rows of the cleaned DataFrame\n",
    "study_jps.shape\n",
    "# Display the updated DataFrame with the new encoded columns\n",
    "study_jps.head()"
   ]
  }
 ],
 "metadata": {
  "kernelspec": {
   "display_name": ".venv",
   "language": "python",
   "name": "python3"
  },
  "language_info": {
   "codemirror_mode": {
    "name": "ipython",
    "version": 3
   },
   "file_extension": ".py",
   "mimetype": "text/x-python",
   "name": "python",
   "nbconvert_exporter": "python",
   "pygments_lexer": "ipython3",
   "version": "3.13.7"
  }
 },
 "nbformat": 4,
 "nbformat_minor": 5
}
