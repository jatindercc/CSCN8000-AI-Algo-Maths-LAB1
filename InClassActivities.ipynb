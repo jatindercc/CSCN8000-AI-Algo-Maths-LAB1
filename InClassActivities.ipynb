{
 "cells": [
  {
   "cell_type": "markdown",
   "id": "42707865",
   "metadata": {},
   "source": [
    "#### Reading an CSV "
   ]
  }
 ],
 "metadata": {
  "language_info": {
   "name": "python"
  }
 },
 "nbformat": 4,
 "nbformat_minor": 5
}
