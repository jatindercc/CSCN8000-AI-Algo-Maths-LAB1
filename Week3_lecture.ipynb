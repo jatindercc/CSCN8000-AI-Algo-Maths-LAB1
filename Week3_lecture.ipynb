{
 "cells": [
  {
   "cell_type": "code",
   "execution_count": 1,
   "id": "462fdedf",
   "metadata": {},
   "outputs": [
    {
     "name": "stdout",
     "output_type": "stream",
     "text": [
      "C – D: 0.20000000000000018\n",
      "C – E: 3.4000000000000004\n",
      "D – E: 3.2\n"
     ]
    }
   ],
   "source": [
    "def manhattan_distance(point1, point2):\n",
    "    \"\"\"\n",
    "    Calculate the Manhattan distance between two points.\n",
    "    Each point is a tuple of coordinates (x, y).\n",
    "    \"\"\"\n",
    "    return sum(abs(a - b) for a, b in zip(point1, point2))\n",
    "\n",
    "# Example usage:\n",
    "C = (1, 2)\n",
    "D = (1.1, 2.1)\n",
    "E = (2.2, 4.2)\n",
    "\n",
    "print(\"C – D:\", manhattan_distance(C, D))  # Output: 0.2\n",
    "print(\"C – E:\", manhattan_distance(C, E))  # Output: 3.4\n",
    "print(\"D – E:\", manhattan_distance(D, E))  # Output: 3.2"
   ]
  }
 ],
 "metadata": {
  "kernelspec": {
   "display_name": ".venv",
   "language": "python",
   "name": "python3"
  },
  "language_info": {
   "codemirror_mode": {
    "name": "ipython",
    "version": 3
   },
   "file_extension": ".py",
   "mimetype": "text/x-python",
   "name": "python",
   "nbconvert_exporter": "python",
   "pygments_lexer": "ipython3",
   "version": "3.13.7"
  }
 },
 "nbformat": 4,
 "nbformat_minor": 5
}
